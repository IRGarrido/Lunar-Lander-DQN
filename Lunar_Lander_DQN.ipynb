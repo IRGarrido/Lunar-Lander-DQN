{
  "cells": [
    {
      "cell_type": "markdown",
      "metadata": {
        "id": "view-in-github",
        "colab_type": "text"
      },
      "source": [
        "<a href=\"https://colab.research.google.com/github/IRGarrido/Lunar-Lander-DQN/blob/master/Lunar_Lander_DQN.ipynb\" target=\"_parent\"><img src=\"https://colab.research.google.com/assets/colab-badge.svg\" alt=\"Open In Colab\"/></a>"
      ]
    },
    {
      "cell_type": "markdown",
      "metadata": {
        "id": "VJHu3NYuUJn9"
      },
      "source": [
        "\n",
        "## Lunar Lander V3 - Deep Q-Learn\n"
      ]
    },
    {
      "cell_type": "code",
      "source": [
        "pip install gymnasium[box2d]"
      ],
      "metadata": {
        "colab": {
          "base_uri": "https://localhost:8080/"
        },
        "id": "T6Fh_8aG87pR",
        "outputId": "9082af86-d230-4bc7-f5d7-4b1d793370ff"
      },
      "execution_count": null,
      "outputs": [
        {
          "output_type": "stream",
          "name": "stdout",
          "text": [
            "Requirement already satisfied: gymnasium[box2d] in /usr/local/lib/python3.11/dist-packages (1.2.0)\n",
            "Requirement already satisfied: numpy>=1.21.0 in /usr/local/lib/python3.11/dist-packages (from gymnasium[box2d]) (2.0.2)\n",
            "Requirement already satisfied: cloudpickle>=1.2.0 in /usr/local/lib/python3.11/dist-packages (from gymnasium[box2d]) (3.1.1)\n",
            "Requirement already satisfied: typing-extensions>=4.3.0 in /usr/local/lib/python3.11/dist-packages (from gymnasium[box2d]) (4.14.1)\n",
            "Requirement already satisfied: farama-notifications>=0.0.1 in /usr/local/lib/python3.11/dist-packages (from gymnasium[box2d]) (0.0.4)\n",
            "Requirement already satisfied: box2d-py==2.3.5 in /usr/local/lib/python3.11/dist-packages (from gymnasium[box2d]) (2.3.5)\n",
            "Requirement already satisfied: pygame>=2.1.3 in /usr/local/lib/python3.11/dist-packages (from gymnasium[box2d]) (2.6.1)\n",
            "Requirement already satisfied: swig==4.* in /usr/local/lib/python3.11/dist-packages (from gymnasium[box2d]) (4.3.1)\n"
          ]
        }
      ]
    },
    {
      "cell_type": "markdown",
      "metadata": {
        "id": "4CnaDqSOUSDK"
      },
      "source": [
        "```\n",
        " pip install swig\n",
        " pip install gymnasium[box2d]\n",
        "```\n",
        "Imports necessários:\n",
        "\n",
        "\n",
        "*   OS\n",
        "*   Random\n",
        "*   Numpy\n",
        "*   Torch\n",
        "*   Gymnasium\n",
        "\n",
        "\n",
        "\n",
        "\n",
        "\n",
        "\n",
        "\n"
      ]
    },
    {
      "cell_type": "code",
      "execution_count": null,
      "metadata": {
        "id": "EtOtA-a5TT2q"
      },
      "outputs": [],
      "source": [
        "import os\n",
        "import random\n",
        "import numpy as np\n",
        "import torch\n",
        "import torch.nn as nn # P/ Rede Neural\n",
        "import torch.optim as optim # Otimizador\n",
        "import torch.nn.functional as F # Funções de ativação, perda, convolução, etc (ReLU)\n",
        "import torch.autograd as autograd # Diferenciação automática (gradiente)\n",
        "from torch.autograd import Variable\n",
        "from collections import deque, namedtuple"
      ]
    },
    {
      "cell_type": "code",
      "execution_count": null,
      "metadata": {
        "colab": {
          "base_uri": "https://localhost:8080/"
        },
        "id": "zowvpGAfTw8P",
        "outputId": "a918011a-fa23-4ea9-f579-a4f729c5bd51"
      },
      "outputs": [
        {
          "output_type": "stream",
          "name": "stdout",
          "text": [
            "State shape:  (8,)\n",
            "State size:  8\n",
            "Number of actions:  4\n",
            "Observation space:  Box([ -2.5        -2.5       -10.        -10.         -6.2831855 -10.\n",
            "  -0.         -0.       ], [ 2.5        2.5       10.        10.         6.2831855 10.\n",
            "  1.         1.       ], (8,), float32)\n"
          ]
        }
      ],
      "source": [
        "# Biblioteca Gymnasium\n",
        "import gymnasium as gym\n",
        "env = gym.make(\"LunarLander-v3\", continuous=False, gravity=-10.0,\n",
        "               enable_wind=False, wind_power=15.0, turbulence_power=1.5)\n",
        "state_shape = env.observation_space.shape\n",
        "state_size = env.observation_space.shape[0]\n",
        "number_actions = env.action_space.n # 0 - Do Nothing, 1 - Fire left, 2 - Fire down, 3 - Fire right\n",
        "observation_space = env.observation_space\n",
        "print('State shape: ', state_shape)\n",
        "print('State size: ', state_size)\n",
        "print('Number of actions: ', number_actions)\n",
        "print('Observation space: ', observation_space)\n"
      ]
    },
    {
      "cell_type": "code",
      "execution_count": null,
      "metadata": {
        "id": "TaCPvqVJTyVH"
      },
      "outputs": [],
      "source": [
        "# Parâmetros de aprendizado\n",
        "learning_rate = 5e-4\n",
        "batch_size =100\n",
        "discount_factor = 0.99\n",
        "replay_buffer_size = int(1e5)\n",
        "interpolation_parameter = 1e-3\n"
      ]
    },
    {
      "cell_type": "code",
      "source": [
        "# Rede Neural\n",
        "class Network(nn.Module):\n",
        "  def __init__(self,state_size,number_actions,seed=42):\n",
        "    super(Network, self).__init__()\n",
        "    self.seed = torch.manual_seed(seed)\n",
        "    self.fc1 = nn.Linear(state_size, 64)\n",
        "    self.fc2 = nn.Linear(64, 64) # 3 Camadas de neurônios totalmente conectadas\n",
        "    self.fc3 = nn.Linear(64, number_actions)\n",
        "\n",
        "\n",
        "  def forward(self, state):\n",
        "    x = self.fc1(state)\n",
        "    x = F.relu(x)\n",
        "    x = self.fc2(x)\n",
        "    x = F.relu(x)\n",
        "    q_values = self.fc3(x)\n",
        "    return q_values"
      ],
      "metadata": {
        "id": "8iUtccNoXKEw"
      },
      "execution_count": null,
      "outputs": []
    },
    {
      "cell_type": "code",
      "source": [
        "# Memória de aprendizado\n",
        "class ReplayMemory(object):\n",
        "    def __init__(self, capacity):\n",
        "        self.device = torch.device(\"cuda\" if torch.cuda.is_available() else \"cpu\")\n",
        "        self.capacity = capacity\n",
        "        self.memory = []\n",
        "\n",
        "    def push(self, event):\n",
        "        self.memory.append(event)\n",
        "        # Deleta a memória mais antiga se estiver cheio (capacidade).\n",
        "        if len(self.memory) > self.capacity:\n",
        "            del self.memory[0]\n",
        "\n",
        "    def sample(self, batch_size):\n",
        "        # Amostragem aleatória do tamanho do batch size\n",
        "        experiences = random.sample(self.memory, k = batch_size)\n",
        "        # Converte em tensores pytorch para serem processados pela rede neural\n",
        "        states = torch.from_numpy(np.vstack([e[0] for e in experiences if e is not None])).float().to(self.device)\n",
        "        actions = torch.from_numpy(np.vstack([e[1] for e in experiences if e is not None])).long().to(self.device)\n",
        "        rewards = torch.from_numpy(np.vstack([e[2] for e in experiences if e is not None])).float().to(self.device)\n",
        "        next_states = torch.from_numpy(np.vstack([e[3] for e in experiences if e is not None])).float().to(self.device)\n",
        "        dones = torch.from_numpy(np.vstack([e[4] for e in experiences if e is not None]).astype(np.uint8)).float().to(self.device)\n",
        "        return (states, actions, rewards, next_states, dones)"
      ],
      "metadata": {
        "id": "xe4jl_Rn180Y"
      },
      "execution_count": null,
      "outputs": []
    },
    {
      "cell_type": "code",
      "source": [
        "class DeepQLearn():\n",
        "  def __init__(self,state_size,number_actions):\n",
        "    self.device = torc.device(\"cuda:0\" if torch.cuda.is_available() else \"cpu\")\n",
        "    self.state_size =state_size\n",
        "    self.action_size = number_actions\n",
        "    self.memory = ReplayMemory(replay_buffer_size)\n",
        "    self.model = Network(state_size,number_actions).to(self.device)\n",
        "    self.target_network = Network(state_size,number_actions).to(self.device)\n",
        "    self.optmize = optim.Adam(self.model.parameters(), learning_rate=learning_rate)\n"
      ],
      "metadata": {
        "id": "DthgH9iF_pbk"
      },
      "execution_count": null,
      "outputs": []
    },
    {
      "cell_type": "markdown",
      "source": [],
      "metadata": {
        "id": "9I03AW5u18p-"
      }
    }
  ],
  "metadata": {
    "colab": {
      "provenance": [],
      "include_colab_link": true
    },
    "kernelspec": {
      "display_name": "Python 3",
      "name": "python3"
    },
    "language_info": {
      "name": "python"
    }
  },
  "nbformat": 4,
  "nbformat_minor": 0
}